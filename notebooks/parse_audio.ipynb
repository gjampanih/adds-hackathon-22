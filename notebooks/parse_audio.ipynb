{
 "cells": [
  {
   "cell_type": "markdown",
   "metadata": {
    "pycharm": {
     "name": "#%% md\n"
    }
   },
   "source": [
    "# Parsing of MP3 Audio Files (using pydub)\n",
    "\n",
    "### Author: John Sugden\n",
    "### Edited by: Langchen Fan\n",
    "### Last Updated: 06/30/2022"
   ]
  },
  {
   "cell_type": "code",
   "execution_count": null,
   "outputs": [],
   "source": [
    "# note, you will need to install ffmpeg in order to run this project ('brew install ffmpeg'); see https://github.com/jiaaro/pydub#dependencies\n",
    "# documentation suggests labav as an alternative, but the library has been depreciated and is no longer maintained\n",
    "\n",
    "from pydub import AudioSegment\n",
    "\n",
    "## read in tracks\n",
    "fox = AudioSegment.from_mp3(\"unprocessed_audio/FOXSPORTS_06-09-2022_09-00-00_PM_28518.mp3\")\n",
    "# ipri = AudioSegment.from_mp3(\"unprocessed_audio/IPRI-FL_06-09-2022_09-00-00_PM_28516.mp3\")\n",
    "# kbpi = AudioSegment.from_mp3(\"unprocessed_audio/KBPI-FM_06-09-2022_11-00-00_PM_28514.mp3\")\n",
    "# kdge = AudioSegment.from_mp3(\"unprocessed_audio/KDGE-FM_06-09-2022_10-00-00_PM_28509.mp3\")\n",
    "# kdmx = AudioSegment.from_mp3(\"unprocessed_audio/KDMX-FM_06-09-2022_10-00-00_PM_28508.mp3\")\n",
    "# kegl = AudioSegment.from_mp3(\"unprocessed_audio/KEGL-FM_06-09-2022_10-00-00_PM_28507.mp3\")\n",
    "# khks = AudioSegment.from_mp3(\"unprocessed_audio/KHKS-FM_06-09-2022_10-00-00_PM_28505.mp3\")\n",
    "# kiis = AudioSegment.from_mp3(\"unprocessed_audio/KIIS-FM_06-10-2022_12-00-00_AM_28489.mp3\")\n",
    "# koda = AudioSegment.from_mp3(\"unprocessed_audio/KODA-FM_06-09-2022_10-00-00_PM_28500.mp3\")\n",
    "# kwbl = AudioSegment.from_mp3(\"unprocessed_audio/KWBL-FM_06-09-2022_11-00-00_PM_28515.mp3\")\n",
    "# kyld = AudioSegment.from_mp3(\"unprocessed_audio/KYLD-FM_06-10-2022_12-00-00_AM_28512.mp3\")\n",
    "# kzps = AudioSegment.from_mp3(\"unprocessed_audio/KZPS-FM_06-09-2022_10-00-00_PM_28506.mp3\")\n",
    "# pnml = AudioSegment.from_mp3(\"unprocessed_audio/PNML_06-09-2022_09-00-00_PM_28815.mp3\")\n",
    "# wash = AudioSegment.from_mp3(\"unprocessed_audio/WASH-FM_06-09-2022_09-00-00_PM_28503.mp3\")\n",
    "# waxq = AudioSegment.from_mp3(\"unprocessed_audio/WAXQ-FM_06-09-2022_09-00-00_PM_28490.mp3\")\n",
    "# whlh = AudioSegment.from_mp3(\"unprocessed_audio/WHLH-FM_06-09-2022_10-00-00_PM_28517.mp3\")\n",
    "# whzt = AudioSegment.from_mp3(\"unprocessed_audio/WHTZ-FM_06-09-2022_09-00-00_PM_28491.mp3\")\n",
    "# wrda = AudioSegment.from_mp3(\"unprocessed_audio/WRDA-FM_06-09-2022_09-00-00_PM_28501.mp3\")\n",
    "# wwdc = AudioSegment.from_mp3(\"unprocessed_audio/WWDC-FM_06-09-2022_09-00-00_PM_28504.mp3\")\n",
    "# wwpr = AudioSegment.from_mp3(\"unprocessed_audio/WWPR-FM_06-09-2022_09-00-00_PM_28513.mp3\")\n",
    "\n",
    "## combine (for looping purposes)\n",
    "# station_list = [fox, ipri, kbpi, kdge, kdmx, kegl, khks, kiis, koda, kwbl, kyld, kzps, pnml, wash, waxq, whlh, whzt, wrda, wwdc, wwpr]\n",
    "station_names = ['fox', 'ipri', 'kbpi', 'kdge', 'kdmx', 'kegl', 'khks', 'kiis', 'koda', 'kwbl', 'kyld', 'kzps', 'pnml', 'wash', 'waxq', 'whlh', 'whzt', 'wrda', 'wwdc', 'wwpr']"
   ],
   "metadata": {
    "collapsed": false,
    "pycharm": {
     "name": "#%%\n",
     "is_executing": true
    }
   }
  },
  {
   "cell_type": "code",
   "execution_count": null,
   "outputs": [],
   "source": [
    "# check some recording characteristics\n",
    "from scipy import signal\n",
    "import matplotlib.pyplot as plt\n",
    "plt.plot(fox)"
   ],
   "metadata": {
    "collapsed": false,
    "pycharm": {
     "name": "#%%\n",
     "is_executing": true
    }
   }
  },
  {
   "cell_type": "code",
   "execution_count": 114,
   "metadata": {
    "ExecuteTime": {
     "end_time": "2021-06-04T16:04:58.424402Z",
     "start_time": "2021-06-04T16:04:58.420982Z"
    },
    "pycharm": {
     "name": "#%%\n"
    }
   },
   "outputs": [
    {
     "data": {
      "text/plain": "<_io.BufferedRandom name='simulated_dual.wav'>"
     },
     "execution_count": 114,
     "metadata": {},
     "output_type": "execute_result"
    }
   ],
   "source": [
    "## create minute-long noise tracks - tones, buzzes, pops, static\n",
    "static = AudioSegment.from_wav(\"noise/audiocheck.net_violetnoise.wav\") - 10 # lower 10 decibels\n",
    "full_static = static * 6\n",
    "full_static = full_static[0:59999] ## make sure 60 seconds long\n",
    "full_static.export(\"simulated_static.wav\", format=\"wav\")\n",
    "\n",
    "buzz = AudioSegment.from_wav(\"noise/RiserDetune_SP_238_01.wav\") - 15 ## lower by 15 decibels\n",
    "full_buzz = buzz[0:4999] * 12\n",
    "full_buzz = full_buzz[0:59999]\n",
    "full_buzz.export(\"simulated_buzz.wav\", format=\"wav\")\n",
    "\n",
    "glitch = AudioSegment.from_wav(\"noise/100_ D_GlitchDroneFx_849.wav\") - 25 ## lower by 25 decibels\n",
    "full_glitch = glitch[1000:3999] * 20\n",
    "full_glitch = full_glitch[0:59999]\n",
    "full_glitch.export(\"simulated_glitch.wav\", format=\"wav\")"
   ]
  },
  {
   "cell_type": "code",
   "execution_count": 116,
   "outputs": [],
   "source": [
    "## read in noise\n",
    "simulated_static = AudioSegment.from_wav(\"simulated_static.wav\")\n",
    "simulated_buzz   = AudioSegment.from_wav(\"simulated_buzz.wav\")\n",
    "simulated_glitch = AudioSegment.from_wav(\"simulated_glitch.wav\")"
   ],
   "metadata": {
    "collapsed": false,
    "pycharm": {
     "name": "#%%\n"
    }
   }
  },
  {
   "cell_type": "code",
   "execution_count": 140,
   "outputs": [
    {
     "data": {
      "text/plain": "'samples/ipri_2.mp3'"
     },
     "execution_count": 140,
     "metadata": {},
     "output_type": "execute_result"
    }
   ],
   "source": [
    "# parsing larger audio into one-minute samples\n",
    "## note, pydub does things in miliseconds\n",
    "min = 60*1000\n",
    "\n",
    "## loop through stations\n",
    "for x in range(20):\n",
    "    audio_track = station_list[x]\n",
    "\n",
    "    ## cut 90 minute audio track into 90 one-minute samples\n",
    "    for y in range(90):\n",
    "\n",
    "        # parse\n",
    "        audio_start = min*y\n",
    "        audio_stop = (min*(y+1)) - 1\n",
    "        sample = audio_track[audio_start:audio_stop]\n",
    "\n",
    "        # overlay static\n",
    "        if x == 16:\n",
    "            sample = sample.overlay(simulated_static, position=0)\n",
    "\n",
    "        # overlay buzz\n",
    "        if x == 17:\n",
    "            sample = sample.overlay(simulated_buzz, position=0)\n",
    "\n",
    "        # overlay glitch\n",
    "        if x == 18:\n",
    "            sample = sample.overlay(simulated_glitch, position=0)\n",
    "\n",
    "        # overlay dual track\n",
    "        if x == 19:\n",
    "            simulated_dual = kiis[audio_start:audio_stop]\n",
    "            sample = sample.overlay(simulated_dual, position=0)\n",
    "\n",
    "        # file name formatting\n",
    "        trailing_zero = ''\n",
    "        if y < 9:\n",
    "            trailing_zero = '0'\n",
    "        track_name = 'samples/' + station_names[x] + '_' + trailing_zero + str(y+1) + '.wav'\n",
    "\n",
    "        # save out\n",
    "        sample.export(track_name, format=\"wav\")\n",
    "\n"
   ],
   "metadata": {
    "collapsed": false,
    "pycharm": {
     "name": "#%%\n"
    }
   }
  }
 ],
 "metadata": {
  "kernelspec": {
   "name": "python3",
   "language": "python",
   "display_name": "Python 3 (ipykernel)"
  },
  "language_info": {
   "codemirror_mode": {
    "name": "ipython",
    "version": 3
   },
   "file_extension": ".py",
   "mimetype": "text/x-python",
   "name": "python",
   "nbconvert_exporter": "python",
   "pygments_lexer": "ipython3",
   "version": "3.9.0"
  },
  "metadata": {
   "interpreter": {
    "hash": "aee8b7b246df8f9039afb4144a1f6fd8d2ca17a180786b69acc140d282b71a49"
   }
  },
  "notify_time": "30",
  "toc": {
   "base_numbering": 1,
   "nav_menu": {},
   "number_sections": true,
   "sideBar": true,
   "skip_h1_title": false,
   "title_cell": "Table of Contents",
   "title_sidebar": "Contents",
   "toc_cell": false,
   "toc_position": {},
   "toc_section_display": true,
   "toc_window_display": false
  },
  "varInspector": {
   "cols": {
    "lenName": 16,
    "lenType": 16,
    "lenVar": 40
   },
   "kernels_config": {
    "python": {
     "delete_cmd_postfix": "",
     "delete_cmd_prefix": "del ",
     "library": "var_list.py",
     "varRefreshCmd": "print(var_dic_list())"
    },
    "r": {
     "delete_cmd_postfix": ") ",
     "delete_cmd_prefix": "rm(",
     "library": "var_list.r",
     "varRefreshCmd": "cat(var_dic_list()) "
    }
   },
   "position": {
    "height": "144px",
    "left": "1207px",
    "right": "20px",
    "top": "121px",
    "width": "350px"
   },
   "types_to_exclude": [
    "module",
    "function",
    "builtin_function_or_method",
    "instance",
    "_Feature"
   ],
   "window_display": false
  }
 },
 "nbformat": 4,
 "nbformat_minor": 2
}